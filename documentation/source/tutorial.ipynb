{
 "cells": [
  {
   "cell_type": "markdown",
   "metadata": {},
   "source": [
    "# Tutorial\n",
    "## Getting started"
   ]
  },
  {
   "cell_type": "code",
   "execution_count": 1,
   "metadata": {
    "collapsed": true,
    "run_control": {
     "frozen": false,
     "read_only": false
    }
   },
   "outputs": [],
   "source": [
    "import os\n",
    "import sys\n",
    "import re\n",
    "import pprint\n",
    "import numpy as np"
   ]
  },
  {
   "cell_type": "markdown",
   "metadata": {
    "run_control": {
     "frozen": false,
     "read_only": false
    }
   },
   "source": [
    "Add **ImagingReso** to python path"
   ]
  },
  {
   "cell_type": "code",
   "execution_count": 2,
   "metadata": {
    "collapsed": true,
    "run_control": {
     "frozen": false,
     "read_only": false
    }
   },
   "outputs": [],
   "source": [
    "root_folder = os.path.dirname(os.getcwd())\n",
    "sys.path.append(root_folder)\n",
    "import ImagingReso\n",
    "from ImagingReso.resonance import Resonance"
   ]
  },
  {
   "cell_type": "markdown",
   "metadata": {
    "run_control": {
     "frozen": false,
     "read_only": false
    }
   },
   "source": [
    "## Initialization"
   ]
  },
  {
   "cell_type": "markdown",
   "metadata": {
    "run_control": {
     "frozen": false,
     "read_only": false
    }
   },
   "source": [
    "Let's define our input\n",
    "\n",
    "**layer1**\n",
    "  - foil **Co** of thickness **0.025 mm** and density **8 g/cm<sup>3</sup>**\n",
    "\n",
    "**layer2**\n",
    "  - foil **Ag** of thickness **0.03 mm**\n",
    "  \n",
    "**layer3**\n",
    "  - compound **UO<sub>3</sub>** of thickness **0.3 mm** and density **0.7875 g/cm<sup>3</sup>**\n",
    "\n",
    "**global paramters**\n",
    "  - min energy of **0.0001 eV** (has to be greater than **1 x 10<sup>-5</sup> eV**)\n",
    "  - max energy of **300 eV** (has to be less than **3000 eV**)\n",
    "  - energy steps to interpolate database: **0.1 eV**"
   ]
  },
  {
   "cell_type": "code",
   "execution_count": 3,
   "metadata": {
    "collapsed": true,
    "run_control": {
     "frozen": false,
     "read_only": false
    }
   },
   "outputs": [],
   "source": [
    "_energy_min = 1\n",
    "_energy_max = 300\n",
    "_energy_step = 0.1"
   ]
  },
  {
   "cell_type": "markdown",
   "metadata": {
    "run_control": {
     "frozen": false,
     "read_only": false
    }
   },
   "source": [
    "### Method 1"
   ]
  },
  {
   "cell_type": "code",
   "execution_count": 4,
   "metadata": {
    "collapsed": true,
    "run_control": {
     "frozen": false,
     "read_only": false
    }
   },
   "outputs": [],
   "source": [
    "_stack = {'Co': {'elements': ['Co'],\n",
    "                   'stoichiometric_ratio': [1],\n",
    "                   'thickness': {'value': 0.025,\n",
    "                                'units': 'mm'},\n",
    "                   'density': {'value': 8,\n",
    "                              'units': 'g/cm3'},\n",
    "                  },\n",
    "         'Ag': {'elements': ['Ag'],\n",
    "               'stoichiometric_ratio': [1],\n",
    "              'thickness': {'value': 0.03,\n",
    "                            'units': 'mm'},\n",
    "                'density': {'value': np.NaN,\n",
    "                            'units': 'g/cm3'},\n",
    "              },\n",
    "          'UO3': {'elements': ['U','O'],\n",
    "                   'stoichiometric_ratio': [1,3],\n",
    "                   'thickness': {'value': 0.3,\n",
    "                                'units': 'mm'},\n",
    "                   'density': {'value': 0.7875,\n",
    "                              'units': 'g/cm3'},\n",
    "                  },\n",
    "         }"
   ]
  },
  {
   "cell_type": "code",
   "execution_count": 5,
   "metadata": {
    "collapsed": true,
    "run_control": {
     "frozen": false,
     "read_only": false
    }
   },
   "outputs": [],
   "source": [
    "o_reso = Resonance(stack=_stack, energy_min=_energy_min, energy_max=_energy_max, energy_step=_energy_step)"
   ]
  },
  {
   "cell_type": "markdown",
   "metadata": {
    "run_control": {
     "frozen": false,
     "read_only": false
    }
   },
   "source": [
    "### Method 2"
   ]
  },
  {
   "cell_type": "code",
   "execution_count": 4,
   "metadata": {
    "collapsed": true,
    "run_control": {
     "frozen": false,
     "read_only": false
    }
   },
   "outputs": [],
   "source": [
    "_layer_1 = 'Co'\n",
    "_thickness_1 = 0.025 # mm\n",
    "_density_1 = 8 # g/cm3 deviated due to porosity\n",
    "\n",
    "_layer_2 = 'Ag'\n",
    "_thickness_2 = 0.03 # mm\n",
    "\n",
    "_layer_3 = 'UO3'\n",
    "_thickness_3 = 0.3 # mm\n",
    "_density_3 = 0.7875 # g/cm3"
   ]
  },
  {
   "cell_type": "code",
   "execution_count": 5,
   "metadata": {
    "collapsed": true,
    "run_control": {
     "frozen": false,
     "read_only": false
    }
   },
   "outputs": [],
   "source": [
    "o_reso = Resonance(energy_min=_energy_min, energy_max=_energy_max, energy_step=_energy_step)\n",
    "o_reso.add_layer(formula=_layer_1, thickness=_thickness_1, density=_density_1)\n",
    "o_reso.add_layer(formula=_layer_2, thickness=_thickness_2)\n",
    "o_reso.add_layer(formula=_layer_3, thickness=_thickness_3, density=_density_3)"
   ]
  },
  {
   "cell_type": "markdown",
   "metadata": {
    "run_control": {
     "frozen": false,
     "read_only": false
    }
   },
   "source": [
    "## Retrieve parameters\n",
    "To retrieve the stack defined, and also visualize the isotopes mass, ratio...etc automatically loaded by the program"
   ]
  },
  {
   "cell_type": "code",
   "execution_count": 6,
   "metadata": {
    "run_control": {
     "frozen": false,
     "read_only": false
    },
    "scrolled": false
   },
   "outputs": [
    {
     "name": "stdout",
     "output_type": "stream",
     "text": [
      "{'Ag': {'Ag': {'density': {'units': 'g/cm3', 'value': 10.5},\n",
      "               'isotopes': {'density': {'units': 'g/cm3',\n",
      "                                        'value': [10.406250187729098,\n",
      "                                                  10.600899412431097,\n",
      "                                                  10.698372226476385,\n",
      "                                                  10.79563390786163]},\n",
      "                            'file_names': ['Ag-107.csv',\n",
      "                                           'Ag-109.csv',\n",
      "                                           'Ag-110.csv',\n",
      "                                           'Ag-111.csv'],\n",
      "                            'isotopic_ratio': [0.51839,\n",
      "                                               0.48161000000000004,\n",
      "                                               0.0,\n",
      "                                               0.0],\n",
      "                            'list': ['107-Ag', '109-Ag', '110-Ag', '111-Ag'],\n",
      "                            'mass': {'units': 'g/mol',\n",
      "                                     'value': [106.905093,\n",
      "                                               108.904756,\n",
      "                                               109.90611,\n",
      "                                               110.905295]}},\n",
      "               'molar_mass': {'units': 'g/mol', 'value': 107.8682}},\n",
      "        'atoms_per_cm3': {'Ag': 5.8620129934957666e+22},\n",
      "        'density': {'units': 'g/cm3', 'value': 10.5},\n",
      "        'elements': ['Ag'],\n",
      "        'stoichiometric_ratio': [1],\n",
      "        'thickness': {'units': 'mm', 'value': 0.03}},\n",
      " 'Co': {'Co': {'density': {'units': 'g/cm3', 'value': 8.9},\n",
      "               'isotopes': {'density': {'units': 'g/cm3',\n",
      "                                        'value': [8.749367803547068,\n",
      "                                                  8.900000030203689]},\n",
      "                            'file_names': ['Co-58.csv', 'Co-59.csv'],\n",
      "                            'isotopic_ratio': [0.0, 1.0],\n",
      "                            'list': ['58-Co', '59-Co'],\n",
      "                            'mass': {'units': 'g/mol',\n",
      "                                     'value': [57.9357576, 58.9332002]}},\n",
      "               'molar_mass': {'units': 'g/mol', 'value': 58.9332}},\n",
      "        'atoms_per_cm3': {'Co': 8.174870337263207e+22},\n",
      "        'density': {'units': 'g/cm3', 'value': 8},\n",
      "        'elements': ['Co'],\n",
      "        'stoichiometric_ratio': [1],\n",
      "        'thickness': {'units': 'mm', 'value': 0.025}},\n",
      " 'UO3': {'O': {'density': {'units': 'g/cm3', 'value': 1.14},\n",
      "               'isotopes': {'density': {'units': 'g/cm3',\n",
      "                                        'value': [1.1396804048398064,\n",
      "                                                  1.2112335406327737,\n",
      "                                                  1.2824882718101929]},\n",
      "                            'file_names': ['O-16.csv', 'O-17.csv', 'O-18.csv'],\n",
      "                            'isotopic_ratio': [0.9975700000000001,\n",
      "                                               0.00037999999999999997,\n",
      "                                               0.0020499999999999997],\n",
      "                            'list': ['16-O', '17-O', '18-O'],\n",
      "                            'mass': {'units': 'g/mol',\n",
      "                                     'value': [15.9949146221,\n",
      "                                               16.9991315,\n",
      "                                               17.9991604]}},\n",
      "               'molar_mass': {'units': 'g/mol', 'value': 15.9994}},\n",
      "         'U': {'density': {'units': 'g/cm3', 'value': 18.95},\n",
      "               'isotopes': {'density': {'units': 'g/cm3',\n",
      "                                        'value': [18.552792392319066,\n",
      "                                                  18.632509467526443,\n",
      "                                                  18.712358690988417,\n",
      "                                                  18.951741325328925]},\n",
      "                            'file_names': ['U-233.csv',\n",
      "                                           'U-234.csv',\n",
      "                                           'U-235.csv',\n",
      "                                           'U-238.csv'],\n",
      "                            'isotopic_ratio': [0.0,\n",
      "                                               5.4999999999999995e-05,\n",
      "                                               0.0072,\n",
      "                                               0.992745],\n",
      "                            'list': ['233-U', '234-U', '235-U', '238-U'],\n",
      "                            'mass': {'units': 'g/mol',\n",
      "                                     'value': [233.039628,\n",
      "                                               234.0409456,\n",
      "                                               235.0439231,\n",
      "                                               238.0507826]}},\n",
      "               'molar_mass': {'units': 'g/mol', 'value': 238.02891}},\n",
      "         'atoms_per_cm3': {'O': 4.974111640907919e+21,\n",
      "                           'U': 1.6580372136359732e+21},\n",
      "         'density': {'units': 'g/cm3', 'value': 0.7875},\n",
      "         'elements': ['U', 'O'],\n",
      "         'stoichiometric_ratio': [1, 3],\n",
      "         'thickness': {'units': 'mm', 'value': 0.3}}}\n"
     ]
    }
   ],
   "source": [
    "pprint.pprint(o_reso.stack)"
   ]
  },
  {
   "cell_type": "markdown",
   "metadata": {
    "run_control": {
     "frozen": false,
     "read_only": false
    }
   },
   "source": [
    "Retrieve energy range"
   ]
  },
  {
   "cell_type": "code",
   "execution_count": 7,
   "metadata": {
    "run_control": {
     "frozen": false,
     "read_only": false
    }
   },
   "outputs": [
    {
     "name": "stdout",
     "output_type": "stream",
     "text": [
      "Energy min 1 eV\n",
      "Energy max 300 eV\n",
      "Energy step 0.1 eV\n"
     ]
    }
   ],
   "source": [
    "print(\"Energy min {} eV\".format(o_reso.energy_min))\n",
    "print(\"Energy max {} eV\".format(o_reso.energy_max))\n",
    "print(\"Energy step {} eV\".format(o_reso.energy_step))"
   ]
  },
  {
   "cell_type": "markdown",
   "metadata": {
    "run_control": {
     "frozen": false,
     "read_only": false
    }
   },
   "source": [
    "You can also retrieve the arrays of sigma (cross section) vs Energy (eV) for each of the isotopes and elements"
   ]
  },
  {
   "cell_type": "code",
   "execution_count": 8,
   "metadata": {
    "run_control": {
     "frozen": false,
     "read_only": false
    },
    "scrolled": true
   },
   "outputs": [
    {
     "name": "stdout",
     "output_type": "stream",
     "text": [
      "{'Ag': {'Ag': {'107-Ag': {'energy_eV': array([   1. ,    1.1,    1.2, ...,  299.8,  299.9,  300. ]),\n",
      "                          'sigma_b': array([ 6.39215496,  6.22015382,  6.068653  , ...,  2.13504931,\n",
      "        2.13051942,  2.12610206]),\n",
      "                          'sigma_b_raw': array([ 12.3307837 ,  11.99898497,  11.70673239, ...,   4.11861592,\n",
      "         4.10987754,   4.10135623])},\n",
      "               '109-Ag': {'energy_eV': array([   1. ,    1.1,    1.2, ...,  299.8,  299.9,  300. ]),\n",
      "                          'sigma_b': array([ 11.32874099,  11.29988539,  11.32133938, ...,   2.12274314,\n",
      "         2.31564349,   2.62704885]),\n",
      "                          'sigma_b_raw': array([ 23.52264486,  23.46272999,  23.50727639, ...,   4.40759773,\n",
      "         4.80813   ,   5.45472238])},\n",
      "               '110-Ag': {'energy_eV': array([   1. ,    1.1,    1.2, ...,  299.8,  299.9,  300. ]),\n",
      "                          'sigma_b': array([ 0.,  0.,  0., ...,  0.,  0.,  0.]),\n",
      "                          'sigma_b_raw': array([ 11.49874969,  10.86582901,  10.32490748, ...,  24.17529266,\n",
      "        24.17184633,  24.1684    ])},\n",
      "               '111-Ag': {'energy_eV': array([   1. ,    1.1,    1.2, ...,  299.8,  299.9,  300. ]),\n",
      "                          'sigma_b': array([ 0.,  0.,  0., ...,  0.,  0.,  0.]),\n",
      "                          'sigma_b_raw': array([ 5.83176816,  5.80756098,  5.78647165, ...,  5.3017178 ,\n",
      "        5.29864453,  5.29557125])},\n",
      "               'energy_eV': array([   1. ,    1.1,    1.2, ...,  299.8,  299.9,  300. ]),\n",
      "               'isotopic_ratio': [0.51839, 0.48161000000000004, 0.0, 0.0],\n",
      "               'sigma_b': array([ 17.72089595,  17.52003921,  17.38999239, ...,   4.25779245,\n",
      "         4.44616291,   4.7531509 ])}},\n",
      " 'Co': {'Co': {'58-Co': {'energy_eV': array([   1. ,    1.1,    1.2, ...,  299.8,  299.9,  300. ]),\n",
      "                         'sigma_b': array([ 0.,  0.,  0., ...,  0.,  0.,  0.]),\n",
      "                         'sigma_b_raw': array([ 459.74124313,  452.68357476,  447.33299029, ...,   13.17229809,\n",
      "         13.17663651,   13.18097494])},\n",
      "               '59-Co': {'energy_eV': array([   1. ,    1.1,    1.2, ...,  299.8,  299.9,  300. ]),\n",
      "                         'sigma_b': array([ 11.96985957,  11.69704311,  11.45668535, ...,  10.83742836,\n",
      "        10.83052022,  10.82361207]),\n",
      "                         'sigma_b_raw': array([ 11.96985957,  11.69704311,  11.45668535, ...,  10.83742836,\n",
      "        10.83052022,  10.82361207])},\n",
      "               'energy_eV': array([   1. ,    1.1,    1.2, ...,  299.8,  299.9,  300. ]),\n",
      "               'isotopic_ratio': [0.0, 1.0],\n",
      "               'sigma_b': array([ 11.96985957,  11.69704311,  11.45668535, ...,  10.83742836,\n",
      "        10.83052022,  10.82361207])}},\n",
      " 'UO3': {'O': {'16-O': {'energy_eV': array([   1. ,    1.1,    1.2, ...,  299.8,  299.9,  300. ]),\n",
      "                        'sigma_b': array([ 3.79132428,  3.79086141,  3.79039681, ...,  3.78548411,\n",
      "        3.7854839 ,  3.78548369]),\n",
      "                        'sigma_b_raw': array([ 3.80055964,  3.80009564,  3.79962991, ...,  3.79470524,\n",
      "        3.79470503,  3.79470482])},\n",
      "               '17-O': {'energy_eV': array([   1. ,    1.1,    1.2, ...,  299.8,  299.9,  300. ]),\n",
      "                        'sigma_b': array([ 0.00143812,  0.00143737,  0.0014367 , ...,  0.00142226,\n",
      "        0.00142226,  0.00142226]),\n",
      "                        'sigma_b_raw': array([ 3.78452424,  3.78254842,  3.78079813, ...,  3.74280107,\n",
      "        3.74280067,  3.74280028])},\n",
      "               '18-O': {'energy_eV': array([   1. ,    1.1,    1.2, ...,  299.8,  299.9,  300. ]),\n",
      "                        'sigma_b': array([ 0.00639177,  0.00639164,  0.00639151, ...,  0.00638149,\n",
      "        0.00638149,  0.00638149]),\n",
      "                        'sigma_b_raw': array([ 3.11793537,  3.11787321,  3.11781097, ...,  3.11292013,\n",
      "        3.11291997,  3.11291981])},\n",
      "               'energy_eV': array([   1. ,    1.1,    1.2, ...,  299.8,  299.9,  300. ]),\n",
      "               'isotopic_ratio': [0.9975700000000001,\n",
      "                                  0.00037999999999999997,\n",
      "                                  0.0020499999999999997],\n",
      "               'sigma_b': array([ 3.79915416,  3.79869042,  3.79822503, ...,  3.79328786,\n",
      "        3.79328765,  3.79328744])},\n",
      "         'U': {'233-U': {'energy_eV': array([   1. ,    1.1,    1.2, ...,  299.8,  299.9,  300. ]),\n",
      "                         'sigma_b': array([ 0.,  0.,  0., ...,  0.,  0.,  0.]),\n",
      "                         'sigma_b_raw': array([ 162.99542846,  185.14753963,  219.54565043, ...,   47.4182    ,\n",
      "         44.93103333,   42.21623611])},\n",
      "               '234-U': {'energy_eV': array([   1. ,    1.1,    1.2, ...,  299.8,  299.9,  300. ]),\n",
      "                         'sigma_b': array([ 0.00119734,  0.00114069,  0.00109234, ...,  0.00055421,\n",
      "        0.00055279,  0.00055137]),\n",
      "                         'sigma_b_raw': array([ 21.76973266,  20.73990208,  19.86066821, ...,  10.07646434,\n",
      "        10.05067368,  10.02499136])},\n",
      "               '235-U': {'energy_eV': array([   1. ,    1.1,    1.2, ...,  299.8,  299.9,  300. ]),\n",
      "                         'sigma_b': array([ 0.66678274,  1.02771094,  0.75808685, ...,  0.11994696,\n",
      "        0.1216701 ,  0.12516867]),\n",
      "                         'sigma_b_raw': array([  92.6087141 ,  142.73763063,  105.28984   , ...,   16.6593    ,\n",
      "         16.898625  ,   17.3845375 ])},\n",
      "               '238-U': {'energy_eV': array([   1. ,    1.1,    1.2, ...,  299.8,  299.9,  300. ]),\n",
      "                         'sigma_b': array([  9.49340387,   9.46341419,   9.43599795, ...,  12.91727658,\n",
      "        12.9070496 ,  12.8968239 ]),\n",
      "                         'sigma_b_raw': array([  9.56278185,   9.53257301,   9.50495641, ...,  13.01167629,\n",
      "        13.00137457,  12.99107414])},\n",
      "               'energy_eV': array([   1. ,    1.1,    1.2, ...,  299.8,  299.9,  300. ]),\n",
      "               'isotopic_ratio': [0.0,\n",
      "                                  5.4999999999999995e-05,\n",
      "                                  0.0072,\n",
      "                                  0.992745],\n",
      "               'sigma_b': array([ 10.16138395,  10.49226583,  10.19517713, ...,  13.03777775,\n",
      "        13.02927248,  13.02254394])}}}\n"
     ]
    }
   ],
   "source": [
    "pprint.pprint(o_reso.stack_sigma)"
   ]
  },
  {
   "cell_type": "markdown",
   "metadata": {
    "run_control": {
     "frozen": false,
     "read_only": false
    }
   },
   "source": [
    "## Modify isotopic ratios"
   ]
  },
  {
   "cell_type": "markdown",
   "metadata": {
    "run_control": {
     "frozen": false,
     "read_only": false
    }
   },
   "source": [
    "Let's presume that the **U** in our **UO<sub>3</sub>** layer does not have the default isotopic_ratio reported\n",
    "```\n",
    " U-233 -> 0\n",
    " U-234 -> 5.5e-5\n",
    " U-235 -> 0.007\n",
    " U-238 -> 0.99\n",
    "```\n",
    "\n",
    "but instead\n",
    "\n",
    "```\n",
    " U-233 -> 0\n",
    " U-234 -> 0\n",
    " U-235 -> 0.5\n",
    " U-238 -> 0.5\n",
    "```\n"
   ]
  },
  {
   "cell_type": "markdown",
   "metadata": {
    "run_control": {
     "frozen": false,
     "read_only": false
    }
   },
   "source": [
    "### Display current list of isotopic ratio "
   ]
  },
  {
   "cell_type": "markdown",
   "metadata": {
    "run_control": {
     "frozen": false,
     "read_only": false
    }
   },
   "source": [
    "To display all the isotopic ratio"
   ]
  },
  {
   "cell_type": "code",
   "execution_count": 9,
   "metadata": {
    "run_control": {
     "frozen": false,
     "read_only": false
    }
   },
   "outputs": [
    {
     "name": "stdout",
     "output_type": "stream",
     "text": [
      "{'Ag': {'Ag': {'107-Ag': 0.51839,\n",
      "               '109-Ag': 0.48161000000000004,\n",
      "               '110-Ag': 0.0,\n",
      "               '111-Ag': 0.0}},\n",
      " 'Co': {'Co': {'58-Co': 0.0, '59-Co': 1.0}},\n",
      " 'UO3': {'O': {'16-O': 0.9975700000000001,\n",
      "               '17-O': 0.00037999999999999997,\n",
      "               '18-O': 0.0020499999999999997},\n",
      "         'U': {'233-U': 0.0,\n",
      "               '234-U': 5.4999999999999995e-05,\n",
      "               '235-U': 0.0072,\n",
      "               '238-U': 0.992745}}}\n"
     ]
    }
   ],
   "source": [
    "pprint.pprint(o_reso.get_isotopic_ratio())"
   ]
  },
  {
   "cell_type": "markdown",
   "metadata": {
    "run_control": {
     "frozen": false,
     "read_only": false
    }
   },
   "source": [
    "From there, it's possible to narrow down the search to the compound and element we are looking for"
   ]
  },
  {
   "cell_type": "code",
   "execution_count": 10,
   "metadata": {
    "run_control": {
     "frozen": false,
     "read_only": false
    }
   },
   "outputs": [
    {
     "name": "stdout",
     "output_type": "stream",
     "text": [
      "{'233-U': 0.0,\n",
      " '234-U': 5.4999999999999995e-05,\n",
      " '235-U': 0.0072,\n",
      " '238-U': 0.992745}\n"
     ]
    }
   ],
   "source": [
    "pprint.pprint(o_reso.get_isotopic_ratio(compound='UO3', element='U'))  "
   ]
  },
  {
   "cell_type": "code",
   "execution_count": 11,
   "metadata": {
    "run_control": {
     "frozen": false,
     "read_only": false
    }
   },
   "outputs": [
    {
     "name": "stdout",
     "output_type": "stream",
     "text": [
      "{'107-Ag': 0.51839, '109-Ag': 0.48161000000000004, '110-Ag': 0.0, '111-Ag': 0.0}\n"
     ]
    }
   ],
   "source": [
    "pprint.pprint(o_reso.get_isotopic_ratio(compound='Ag', element='Ag'))"
   ]
  },
  {
   "cell_type": "markdown",
   "metadata": {
    "run_control": {
     "frozen": false,
     "read_only": false
    }
   },
   "source": [
    "if compound is composef of only 1 element, **element** parameter can be omitted"
   ]
  },
  {
   "cell_type": "code",
   "execution_count": 12,
   "metadata": {
    "run_control": {
     "frozen": false,
     "read_only": false
    }
   },
   "outputs": [
    {
     "name": "stdout",
     "output_type": "stream",
     "text": [
      "{'107-Ag': 0.51839, '109-Ag': 0.48161000000000004, '110-Ag': 0.0, '111-Ag': 0.0}\n"
     ]
    }
   ],
   "source": [
    "pprint.pprint(o_reso.get_isotopic_ratio(compound='Ag'))"
   ]
  },
  {
   "cell_type": "markdown",
   "metadata": {
    "run_control": {
     "frozen": false,
     "read_only": false
    }
   },
   "source": [
    "### Define a new set of isotopic ratio"
   ]
  },
  {
   "cell_type": "code",
   "execution_count": 13,
   "metadata": {
    "collapsed": true,
    "run_control": {
     "frozen": false,
     "read_only": false
    }
   },
   "outputs": [],
   "source": [
    "new_list_ratio_1 = [0., 0., 0.5, 0.5]\n",
    "o_reso.set_isotopic_ratio(compound='UO3', element='U', list_ratio=new_list_ratio_1)\n",
    "new_list_ratio_2 = [0.1, 0.9, 0.0, 0.0]\n",
    "o_reso.set_isotopic_ratio(compound='Ag', element='Ag', list_ratio=new_list_ratio_2)"
   ]
  },
  {
   "cell_type": "code",
   "execution_count": 14,
   "metadata": {
    "run_control": {
     "frozen": false,
     "read_only": false
    }
   },
   "outputs": [
    {
     "name": "stdout",
     "output_type": "stream",
     "text": [
      "{'233-U': 0.0, '234-U': 0.0, '235-U': 0.5, '238-U': 0.5}\n"
     ]
    }
   ],
   "source": [
    "pprint.pprint(o_reso.get_isotopic_ratio(compound='UO3', element='U'))  "
   ]
  },
  {
   "cell_type": "code",
   "execution_count": 15,
   "metadata": {
    "run_control": {
     "frozen": false,
     "read_only": false
    }
   },
   "outputs": [
    {
     "name": "stdout",
     "output_type": "stream",
     "text": [
      "{'107-Ag': 0.1, '109-Ag': 0.9, '110-Ag': 0.0, '111-Ag': 0.0}\n"
     ]
    }
   ],
   "source": [
    "pprint.pprint(o_reso.get_isotopic_ratio(compound='Ag'))  "
   ]
  },
  {
   "cell_type": "code",
   "execution_count": 16,
   "metadata": {
    "run_control": {
     "frozen": false,
     "read_only": false
    }
   },
   "outputs": [
    {
     "name": "stdout",
     "output_type": "stream",
     "text": [
      "{'Ag': {'Ag': {'107-Ag': 0.1, '109-Ag': 0.9, '110-Ag': 0.0, '111-Ag': 0.0}},\n",
      " 'Co': {'Co': {'58-Co': 0.0, '59-Co': 1.0}},\n",
      " 'UO3': {'O': {'16-O': 0.9975700000000001,\n",
      "               '17-O': 0.00037999999999999997,\n",
      "               '18-O': 0.0020499999999999997},\n",
      "         'U': {'233-U': 0.0, '234-U': 0.0, '235-U': 0.5, '238-U': 0.5}}}\n"
     ]
    }
   ],
   "source": [
    "pprint.pprint(o_reso.get_isotopic_ratio())"
   ]
  },
  {
   "cell_type": "markdown",
   "metadata": {
    "run_control": {
     "frozen": false,
     "read_only": false
    }
   },
   "source": [
    "Using **set_isotopic_ratio**, the element *density*, *molar_mass* and *atoms_per_cm3* are automatically updated"
   ]
  },
  {
   "cell_type": "code",
   "execution_count": 17,
   "metadata": {
    "run_control": {
     "frozen": false,
     "read_only": false
    }
   },
   "outputs": [
    {
     "name": "stdout",
     "output_type": "stream",
     "text": [
      "{'Ag': {'density': {'units': 'g/cm3', 'value': 10.581434489960898},\n",
      "        'isotopes': {'density': {'units': 'g/cm3',\n",
      "                                 'value': [10.406250187729098,\n",
      "                                           10.600899412431097,\n",
      "                                           10.698372226476385,\n",
      "                                           10.79563390786163]},\n",
      "                     'file_names': ['Ag-107.csv',\n",
      "                                    'Ag-109.csv',\n",
      "                                    'Ag-110.csv',\n",
      "                                    'Ag-111.csv'],\n",
      "                     'isotopic_ratio': [0.1, 0.9, 0.0, 0.0],\n",
      "                     'list': ['107-Ag', '109-Ag', '110-Ag', '111-Ag'],\n",
      "                     'mass': {'units': 'g/mol',\n",
      "                              'value': [106.905093,\n",
      "                                        108.904756,\n",
      "                                        109.90611,\n",
      "                                        110.905295]}},\n",
      "        'molar_mass': {'units': 'g/mol', 'value': 108.7047897}},\n",
      " 'atoms_per_cm3': {'Ag': 5.8620129934957666e+22},\n",
      " 'density': {'units': 'g/cm3', 'value': 10.581434489960898},\n",
      " 'elements': ['Ag'],\n",
      " 'stoichiometric_ratio': [1],\n",
      " 'thickness': {'units': 'mm', 'value': 0.03}}\n"
     ]
    }
   ],
   "source": [
    "pprint.pprint(o_reso.stack['Ag'])"
   ]
  },
  {
   "cell_type": "code",
   "execution_count": 18,
   "metadata": {
    "run_control": {
     "frozen": false,
     "read_only": false
    }
   },
   "outputs": [
    {
     "name": "stdout",
     "output_type": "stream",
     "text": [
      "{'O': {'density': {'units': 'g/cm3', 'value': 1.14},\n",
      "       'isotopes': {'density': {'units': 'g/cm3',\n",
      "                                'value': [1.1396804048398064,\n",
      "                                          1.2112335406327737,\n",
      "                                          1.2824882718101929]},\n",
      "                    'file_names': ['O-16.csv', 'O-17.csv', 'O-18.csv'],\n",
      "                    'isotopic_ratio': [0.9975700000000001,\n",
      "                                       0.00037999999999999997,\n",
      "                                       0.0020499999999999997],\n",
      "                    'list': ['16-O', '17-O', '18-O'],\n",
      "                    'mass': {'units': 'g/mol',\n",
      "                             'value': [15.9949146221, 16.9991315, 17.9991604]}},\n",
      "       'molar_mass': {'units': 'g/mol', 'value': 15.9994}},\n",
      " 'U': {'density': {'units': 'g/cm3', 'value': 18.83205000815867},\n",
      "       'isotopes': {'density': {'units': 'g/cm3',\n",
      "                                'value': [18.552792392319066,\n",
      "                                          18.632509467526443,\n",
      "                                          18.712358690988417,\n",
      "                                          18.951741325328925]},\n",
      "                    'file_names': ['U-233.csv',\n",
      "                                   'U-234.csv',\n",
      "                                   'U-235.csv',\n",
      "                                   'U-238.csv'],\n",
      "                    'isotopic_ratio': [0.0, 0.0, 0.5, 0.5],\n",
      "                    'list': ['233-U', '234-U', '235-U', '238-U'],\n",
      "                    'mass': {'units': 'g/mol',\n",
      "                             'value': [233.039628,\n",
      "                                       234.0409456,\n",
      "                                       235.0439231,\n",
      "                                       238.0507826]}},\n",
      "       'molar_mass': {'units': 'g/mol', 'value': 236.54735284999998}},\n",
      " 'atoms_per_cm3': {'O': 5.000010589574218e+21, 'U': 1.6666701965247392e+21},\n",
      " 'density': {'units': 'g/cm3', 'value': 0.7875},\n",
      " 'elements': ['U', 'O'],\n",
      " 'stoichiometric_ratio': [1, 3],\n",
      " 'thickness': {'units': 'mm', 'value': 0.3}}\n"
     ]
    }
   ],
   "source": [
    "pprint.pprint(o_reso.stack['UO3'])"
   ]
  },
  {
   "cell_type": "markdown",
   "metadata": {
    "collapsed": true,
    "run_control": {
     "frozen": false,
     "read_only": false
    }
   },
   "source": [
    "## Output\n",
    "### Preview the transmission and attenuation resonance signals "
   ]
  },
  {
   "cell_type": "markdown",
   "metadata": {
    "run_control": {
     "frozen": false,
     "read_only": false
    }
   },
   "source": [
    "Those arrays for each Compound, element and isotopes are calculated during initialization of the object, but also \n",
    "every time one of the parameters is modified, such as density, stochiometric coefficient.\n",
    "\n",
    "Those arrays are store in the **stack_signal** dictionary"
   ]
  },
  {
   "cell_type": "code",
   "execution_count": 19,
   "metadata": {
    "run_control": {
     "frozen": false,
     "read_only": false
    },
    "scrolled": true
   },
   "outputs": [
    {
     "name": "stdout",
     "output_type": "stream",
     "text": [
      "{'Ag': {'Ag': {'107-Ag': {'attenuation': array([  2.16826133e-04,   2.10992355e-04,   2.05853861e-04, ...,\n",
      "         7.24275171e-05,   7.22738548e-05,   7.21240095e-05]),\n",
      "                          'energy_eV': array([   1. ,    1.1,    1.2, ...,  299.8,  299.9,  300. ]),\n",
      "                          'transmission': array([ 0.99978317,  0.99978901,  0.99979415, ...,  0.99992757,\n",
      "        0.99992773,  0.99992788])},\n",
      "               '109-Ag': {'attenuation': array([ 0.00371611,  0.00370666,  0.00371369, ...,  0.00069737,\n",
      "        0.00076071,  0.00086297]),\n",
      "                          'energy_eV': array([   1. ,    1.1,    1.2, ...,  299.8,  299.9,  300. ]),\n",
      "                          'transmission': array([ 0.99628389,  0.99629334,  0.99628631, ...,  0.99930263,\n",
      "        0.99923929,  0.99913703])},\n",
      "               '110-Ag': {'attenuation': array([ 0.,  0.,  0., ...,  0.,  0.,  0.]),\n",
      "                          'energy_eV': array([   1. ,    1.1,    1.2, ...,  299.8,  299.9,  300. ]),\n",
      "                          'transmission': array([ 1.,  1.,  1., ...,  1.,  1.,  1.])},\n",
      "               '111-Ag': {'attenuation': array([ 0.,  0.,  0., ...,  0.,  0.,  0.]),\n",
      "                          'energy_eV': array([   1. ,    1.1,    1.2, ...,  299.8,  299.9,  300. ]),\n",
      "                          'transmission': array([ 1.,  1.,  1., ...,  1.,  1.,  1.])},\n",
      "               'attenuation': array([ 0.00393213,  0.00391687,  0.00391878, ...,  0.00076974,\n",
      "        0.00083293,  0.00093503]),\n",
      "               'energy_eV': array([   1. ,    1.1,    1.2, ...,  299.8,  299.9,  300. ]),\n",
      "               'transmission': array([ 0.99606787,  0.99608313,  0.99608122, ...,  0.99923026,\n",
      "        0.99916707,  0.99906497])},\n",
      "        'attenuation': array([ 0.00393213,  0.00391687,  0.00391878, ...,  0.00076974,\n",
      "        0.00083293,  0.00093503]),\n",
      "        'energy_eV': array([   1. ,    1.1,    1.2, ...,  299.8,  299.9,  300. ]),\n",
      "        'transmission': array([ 0.99606787,  0.99608313,  0.99608122, ...,  0.99923026,\n",
      "        0.99916707,  0.99906497])},\n",
      " 'Co': {'Co': {'58-Co': {'attenuation': array([ 0.,  0.,  0., ...,  0.,  0.,  0.]),\n",
      "                         'energy_eV': array([   1. ,    1.1,    1.2, ...,  299.8,  299.9,  300. ]),\n",
      "                         'transmission': array([ 1.,  1.,  1., ...,  1.,  1.,  1.])},\n",
      "               '59-Co': {'attenuation': array([ 0.00244331,  0.00238769,  0.00233868, ...,  0.00221241,\n",
      "        0.002211  ,  0.0022096 ]),\n",
      "                         'energy_eV': array([   1. ,    1.1,    1.2, ...,  299.8,  299.9,  300. ]),\n",
      "                         'transmission': array([ 0.99755669,  0.99761231,  0.99766132, ...,  0.99778759,\n",
      "        0.997789  ,  0.9977904 ])},\n",
      "               'attenuation': array([ 0.00244331,  0.00238769,  0.00233868, ...,  0.00221241,\n",
      "        0.002211  ,  0.0022096 ]),\n",
      "               'energy_eV': array([   1. ,    1.1,    1.2, ...,  299.8,  299.9,  300. ]),\n",
      "               'transmission': array([ 0.99755669,  0.99761231,  0.99766132, ...,  0.99778759,\n",
      "        0.997789  ,  0.9977904 ])},\n",
      "        'attenuation': array([ 0.00244331,  0.00238769,  0.00233868, ...,  0.00221241,\n",
      "        0.002211  ,  0.0022096 ]),\n",
      "        'energy_eV': array([   1. ,    1.1,    1.2, ...,  299.8,  299.9,  300. ]),\n",
      "        'transmission': array([ 0.99755669,  0.99761231,  0.99766132, ...,  0.99778759,\n",
      "        0.997789  ,  0.9977904 ])},\n",
      " 'UO3': {'O': {'16-O': {'attenuation': array([ 0.00056854,  0.00056847,  0.0005684 , ...,  0.00056766,\n",
      "        0.00056766,  0.00056766]),\n",
      "                        'energy_eV': array([   1. ,    1.1,    1.2, ...,  299.8,  299.9,  300. ]),\n",
      "                        'transmission': array([ 0.99943146,  0.99943153,  0.9994316 , ...,  0.99943234,\n",
      "        0.99943234,  0.99943234])},\n",
      "               '17-O': {'attenuation': array([  2.15718315e-07,   2.15605693e-07,   2.15505927e-07, ...,\n",
      "         2.13340090e-07,   2.13340068e-07,   2.13340045e-07]),\n",
      "                        'energy_eV': array([   1. ,    1.1,    1.2, ...,  299.8,  299.9,  300. ]),\n",
      "                        'transmission': array([ 0.99999978,  0.99999978,  0.99999978, ...,  0.99999979,\n",
      "        0.99999979,  0.99999979])},\n",
      "               '18-O': {'attenuation': array([  9.58766696e-07,   9.58747583e-07,   9.58728445e-07, ...,\n",
      "         9.57224509e-07,   9.57224460e-07,   9.57224411e-07]),\n",
      "                        'energy_eV': array([   1. ,    1.1,    1.2, ...,  299.8,  299.9,  300. ]),\n",
      "                        'transmission': array([ 0.99999904,  0.99999904,  0.99999904, ...,  0.99999904,\n",
      "        0.99999904,  0.99999904])},\n",
      "               'attenuation': array([ 0.00056971,  0.00056964,  0.00056957, ...,  0.00056883,\n",
      "        0.00056883,  0.00056883]),\n",
      "               'energy_eV': array([   1. ,    1.1,    1.2, ...,  299.8,  299.9,  300. ]),\n",
      "               'transmission': array([ 0.99943029,  0.99943036,  0.99943043, ...,  0.99943117,\n",
      "        0.99943117,  0.99943117])},\n",
      "         'U': {'233-U': {'attenuation': array([ 0.,  0.,  0., ...,  0.,  0.,  0.]),\n",
      "                         'energy_eV': array([   1. ,    1.1,    1.2, ...,  299.8,  299.9,  300. ]),\n",
      "                         'transmission': array([ 1.,  1.,  1., ...,  1.,  1.,  1.])},\n",
      "               '234-U': {'attenuation': array([ 0.,  0.,  0., ...,  0.,  0.,  0.]),\n",
      "                         'energy_eV': array([   1. ,    1.1,    1.2, ...,  299.8,  299.9,  300. ]),\n",
      "                         'transmission': array([ 1.,  1.,  1., ...,  1.,  1.,  1.])},\n",
      "               '235-U': {'attenuation': array([ 0.00231254,  0.00356209,  0.00262879, ...,  0.0004164 ,\n",
      "        0.00042238,  0.00043452]),\n",
      "                         'energy_eV': array([   1. ,    1.1,    1.2, ...,  299.8,  299.9,  300. ]),\n",
      "                         'transmission': array([ 0.99768746,  0.99643791,  0.99737121, ...,  0.9995836 ,\n",
      "        0.99957762,  0.99956548])},\n",
      "               '238-U': {'attenuation': array([ 0.00023904,  0.00023829,  0.0002376 , ...,  0.00032524,\n",
      "        0.00032498,  0.00032472]),\n",
      "                         'energy_eV': array([   1. ,    1.1,    1.2, ...,  299.8,  299.9,  300. ]),\n",
      "                         'transmission': array([ 0.99976096,  0.99976171,  0.9997624 , ...,  0.99967476,\n",
      "        0.99967502,  0.99967528])},\n",
      "               'attenuation': array([ 0.00255103,  0.00379953,  0.00286576, ...,  0.0007415 ,\n",
      "        0.00074722,  0.0007591 ]),\n",
      "               'energy_eV': array([   1. ,    1.1,    1.2, ...,  299.8,  299.9,  300. ]),\n",
      "               'transmission': array([ 0.99744897,  0.99620047,  0.99713424, ...,  0.9992585 ,\n",
      "        0.99925278,  0.9992409 ])},\n",
      "         'attenuation': array([ 0.00311929,  0.004367  ,  0.0034337 , ...,  0.00130991,\n",
      "        0.00131563,  0.0013275 ]),\n",
      "         'energy_eV': array([   1. ,    1.1,    1.2, ...,  299.8,  299.9,  300. ]),\n",
      "         'transmission': array([ 0.99688071,  0.995633  ,  0.9965663 , ...,  0.99869009,\n",
      "        0.99868437,  0.9986725 ])}}\n"
     ]
    }
   ],
   "source": [
    "pprint.pprint(o_reso.stack_signal)"
   ]
  },
  {
   "cell_type": "markdown",
   "metadata": {
    "collapsed": true,
    "run_control": {
     "frozen": false,
     "read_only": false
    }
   },
   "source": [
    "You can retrieve any of those arrays, **transmission**, **attenuation** and **Energy (eV) (x-axis)** arrays as followed "
   ]
  },
  {
   "cell_type": "markdown",
   "metadata": {
    "run_control": {
     "frozen": false,
     "read_only": false
    }
   },
   "source": [
    "for the compound **UO<sub>3</sub>**"
   ]
  },
  {
   "cell_type": "code",
   "execution_count": 20,
   "metadata": {
    "collapsed": true,
    "run_control": {
     "frozen": false,
     "read_only": false
    }
   },
   "outputs": [],
   "source": [
    "transmission_UO3 = o_reso.stack_signal['UO3']['transmission']\n",
    "attenuation_UO3 = o_reso.stack_signal['UO3']['attenuation']\n",
    "energy_UO3 = o_reso.stack_signal['UO3']['energy_eV']"
   ]
  },
  {
   "cell_type": "markdown",
   "metadata": {
    "run_control": {
     "frozen": false,
     "read_only": false
    }
   },
   "source": [
    "for the element **U**"
   ]
  },
  {
   "cell_type": "code",
   "execution_count": 21,
   "metadata": {
    "collapsed": true,
    "run_control": {
     "frozen": false,
     "read_only": false
    }
   },
   "outputs": [],
   "source": [
    "transmission_UO3_U = o_reso.stack_signal['UO3']['U']['transmission']\n",
    "energy_UO3_U = o_reso.stack_signal['UO3']['U']['energy_eV']"
   ]
  },
  {
   "cell_type": "markdown",
   "metadata": {
    "run_control": {
     "frozen": false,
     "read_only": false
    }
   },
   "source": [
    "or for the isotope **238-U**"
   ]
  },
  {
   "cell_type": "code",
   "execution_count": 22,
   "metadata": {
    "collapsed": true,
    "run_control": {
     "frozen": false,
     "read_only": false
    }
   },
   "outputs": [],
   "source": [
    "transmission_UO3_U_238U = o_reso.stack_signal['UO3']['U']['238-U']['transmission']\n",
    "energy_UO3_U_238U = o_reso.stack_signal['UO3']['U']['238-U']['energy_eV']"
   ]
  },
  {
   "cell_type": "markdown",
   "metadata": {
    "run_control": {
     "frozen": false,
     "read_only": false
    }
   },
   "source": [
    "It's possible to retrieve the x_axis into **Angstroms** instead of **eV** as provided by default"
   ]
  },
  {
   "cell_type": "markdown",
   "metadata": {
    "run_control": {
     "frozen": false,
     "read_only": false
    }
   },
   "source": [
    "### Display transmission or attenuation signals\n",
    "\n",
    "Here are the flags available for the final plot (in **bold**, the default values)\n",
    "\n",
    " - x_axis: **'energy'** or 'lambda' or 'time' or 'number'. Type of x-axis.\n",
    " - y_axis: **'attenuation'** or 'transmission'. Type of y-axis.\n",
    " - lambda_max_angstroms: **1**. The maximax wavelength for display.\n",
    " - mixed: **True** or False. Display the total signal.\n",
    " - all_layers: True or **False**. Dislay the signal of each compound/layer.\n",
    " - all_elements: True or **False**. Display the signal of each element.\n",
    " - all_isotopes: True or **False**. Display the signal of each isotope.\n",
    " - items_to_plot: **None**. List that defines what to plot. You need to define the path to the compound/element/isotope you want to see.\n",
    " \n",
    "Parameters only available if you want to plot in `x_axis='time'` or `x_axis='number'`: \n",
    " \n",
    " - time_unit: **'us'**. Time unit for display.\n",
    " - t_start_us: **1**. Time when recording starts after event in micro-seconds. \n",
    " - offset_us: **0**. Time offset in micro-seconds.\n",
    " - time_resolution_us: **0.16**. Time step setting in micro-seconds.\n",
    " - source_to_detector_m: **16**. Source to detector distance in meters.\n",
    "   \n",
    "example: \n",
    "   \n",
    "   if we want to display the U element of the UO<sub>3</sub> layer\n",
    "       items_to_plot = [['UO3','U']]\n",
    "   if we want also to display the 235-U isotope of the element U of compound UO<sub>3</sub>\n",
    "       items_to_plot = [['UO3', 'O'],['UO3','U','235-U']]\n",
    "       \n",
    "So here are a few examples of plot commands\n",
    "\n",
    "`o_reso.plot(x_axis='lambda', all_layers=True)`\n",
    "\n",
    "`o_reso.plot(items_to_plot=[['Co'], ['UO3'], ['Ag', 'Ag', '107-Ag'], ['Co', 'Co', '58-Co']])`\n"
   ]
  },
  {
   "cell_type": "markdown",
   "metadata": {
    "run_control": {
     "frozen": false,
     "read_only": false
    }
   },
   "source": [
    "#### Plot **total attenuation** vs. **energy** (default)"
   ]
  },
  {
   "cell_type": "code",
   "execution_count": 23,
   "metadata": {
    "run_control": {
     "frozen": false,
     "read_only": false
    }
   },
   "outputs": [
    {
     "data": {
      "image/png": "[encoded data removed]",
      "text/plain": [
       "<matplotlib.figure.Figure at 0x117ad7b38>"
      ]
     },
     "metadata": {},
     "output_type": "display_data"
    }
   ],
   "source": [
    "o_reso.plot()"
   ]
  },
  {
   "cell_type": "markdown",
   "metadata": {
    "run_control": {
     "frozen": false,
     "read_only": false
    }
   },
   "source": [
    "#### Plot **total transmission** vs. **wavelength**"
   ]
  },
  {
   "cell_type": "code",
   "execution_count": 24,
   "metadata": {
    "run_control": {
     "frozen": false,
     "read_only": false
    }
   },
   "outputs": [
    {
     "data": {
      "image/png": "[encoded data removed]",
      "text/plain": [
       "<matplotlib.figure.Figure at 0x10be4e898>"
      ]
     },
     "metadata": {},
     "output_type": "display_data"
    }
   ],
   "source": [
    "o_reso.plot(x_axis='lambda', y_axis='transmission', lambda_max_angstroms=0.3)"
   ]
  },
  {
   "cell_type": "markdown",
   "metadata": {
    "run_control": {
     "frozen": false,
     "read_only": false
    }
   },
   "source": [
    "#### Plot **attenuation** vs. **energy** of *all layers*"
   ]
  },
  {
   "cell_type": "code",
   "execution_count": 25,
   "metadata": {
    "run_control": {
     "frozen": false,
     "read_only": false
    },
    "scrolled": false
   },
   "outputs": [
    {
     "data": {
      "image/png": "[encoded data removed]",
      "text/plain": [
       "<matplotlib.figure.Figure at 0x117ccf550>"
      ]
     },
     "metadata": {},
     "output_type": "display_data"
    }
   ],
   "source": [
    "o_reso.plot(mixed=False, all_layers=True)"
   ]
  },
  {
   "cell_type": "markdown",
   "metadata": {
    "run_control": {
     "frozen": false,
     "read_only": false
    }
   },
   "source": [
    "#### Plot **attenuation** vs. **energy** of *all elements*"
   ]
  },
  {
   "cell_type": "code",
   "execution_count": 26,
   "metadata": {
    "run_control": {
     "frozen": false,
     "read_only": false
    }
   },
   "outputs": [
    {
     "data": {
      "image/png": "[encoded data removed]",
      "text/plain": [
       "<matplotlib.figure.Figure at 0x10bb96630>"
      ]
     },
     "metadata": {},
     "output_type": "display_data"
    }
   ],
   "source": [
    "o_reso.plot(mixed=True, all_elements=True)"
   ]
  },
  {
   "cell_type": "markdown",
   "metadata": {
    "run_control": {
     "frozen": false,
     "read_only": false
    }
   },
   "source": [
    "#### Plot **attenuation** vs. **energy** of *all isotopes*"
   ]
  },
  {
   "cell_type": "code",
   "execution_count": 27,
   "metadata": {
    "run_control": {
     "frozen": false,
     "read_only": false
    }
   },
   "outputs": [
    {
     "data": {
      "image/png": "[encoded data removed]",
      "text/plain": [
       "<matplotlib.figure.Figure at 0x117ddc588>"
      ]
     },
     "metadata": {},
     "output_type": "display_data"
    }
   ],
   "source": [
    "o_reso.plot(mixed=True, all_isotopes=True)"
   ]
  },
  {
   "cell_type": "markdown",
   "metadata": {
    "run_control": {
     "frozen": false,
     "read_only": false
    }
   },
   "source": [
    "#### Plot **attenuation** vs. **energy** of *part/parts picked*"
   ]
  },
  {
   "cell_type": "code",
   "execution_count": 28,
   "metadata": {
    "run_control": {
     "frozen": false,
     "read_only": false
    }
   },
   "outputs": [
    {
     "data": {
      "image/png": "[encoded data removed]",
      "text/plain": [
       "<matplotlib.figure.Figure at 0x117fe27f0>"
      ]
     },
     "metadata": {},
     "output_type": "display_data"
    }
   ],
   "source": [
    "o_reso.plot(items_to_plot = [['UO3'],['UO3','U','235-U'],['UO3','U','238-U']])"
   ]
  },
  {
   "cell_type": "code",
   "execution_count": 29,
   "metadata": {
    "run_control": {
     "frozen": false,
     "read_only": false
    },
    "scrolled": false
   },
   "outputs": [
    {
     "data": {
      "image/png": "[encoded data removed]",
      "text/plain": [
       "<matplotlib.figure.Figure at 0x1183a8438>"
      ]
     },
     "metadata": {},
     "output_type": "display_data"
    }
   ],
   "source": [
    "o_reso.plot(items_to_plot=[['Co'], ['UO3'], ['Ag', 'Ag', '107-Ag'], ['Co', 'Co', '58-Co']])"
   ]
  },
  {
   "cell_type": "markdown",
   "metadata": {},
   "source": [
    "### Export transmission or attenuation signals\n",
    "\n",
    "Similar to plotting option. Here are the flags available for the final plot (in **bold**, the default values)\n",
    "\n",
    " - x_axis: **'energy'** or 'lambda' or 'time' or 'number'. Type of x-axis to export.\n",
    " - y_axis: **'attenuation'** or 'transmission' or 'sigma'. Type of y-axis to export.\n",
    " - mixed: **True** or False. Export the total signal.\n",
    " - all_layers: True or **False**. Save the signal of each compound/layer.\n",
    " - all_elements: True or **False**. Save the signal of each element.\n",
    " - all_isotopes: True or **False**. Save the signal of each isotope.\n",
    " - filename: **None** or 'YOUR_FILE_NAME.csv' (string with .csv suffix) you would like to save as.\n",
    " if `filename=None`, export to clipboard for excel or other softwares.\n",
    " - items_to_export: List that defines what to export. \n",
    " You need to define the path to the compound/element/isotope you want to export.\n",
    "\n",
    "Parameters only available if you want to plot in `x_axis='time'` or `x_axis='number'`: \n",
    " \n",
    " - time_unit: **'us'**. Time unit for display.\n",
    " - t_start_us: **1**. Time when recording starts after event in micro-seconds. \n",
    " - offset_us: **0**. Time offset in micro-seconds.\n",
    " - time_resolution_us: **0.16**. Time step setting in micro-seconds.\n",
    " - source_to_detector_m: **16**. Source to detector distance in meters.\n",
    "       \n",
    "So here are a few examples of export commands\n",
    "\n",
    "`o_reso.export(to_csv=False, y_axis='attenuation', all_elements=True)`\n",
    "\n",
    "`o_reso.export(y_axis='attenuation', items_to_export=[['Co'], ['Ag'], ['Ag', 'Ag', '107-Ag'], ['Co', 'Co', '58-Co']])`\n",
    "\n",
    "However, when `y_axis='sigma'`, export of sigma at layer level is not currently supported, then, \n",
    "\n",
    "`items_to_export=[['Co'], ['Ag']]` \n",
    "\n",
    "has to be formatted as \n",
    "\n",
    "`items_to_export=[['Co', 'Co'], ['Ag', 'Ag']]`\n"
   ]
  },
  {
   "cell_type": "code",
   "execution_count": 30,
   "metadata": {
    "collapsed": true
   },
   "outputs": [],
   "source": [
    "o_reso.export(x_axis='energy', y_axis='attenuation', all_layers=True)"
   ]
  },
  {
   "cell_type": "code",
   "execution_count": 31,
   "metadata": {
    "collapsed": true
   },
   "outputs": [],
   "source": [
    "o_reso.export(x_axis='lambda', y_axis='transmission', all_elements=True)"
   ]
  },
  {
   "cell_type": "code",
   "execution_count": 32,
   "metadata": {
    "collapsed": true
   },
   "outputs": [],
   "source": [
    "o_reso.export(x_axis='energy', y_axis='attenuation', all_isotopes=True)"
   ]
  },
  {
   "cell_type": "code",
   "execution_count": 33,
   "metadata": {
    "collapsed": true
   },
   "outputs": [],
   "source": [
    "o_reso.export(x_axis='energy', y_axis='attenuation', items_to_export=[['Co', 'Co'], ['Ag', 'Ag'], ['Ag', 'Ag', '107-Ag'], ['Co', 'Co', '58-Co']])"
   ]
  },
  {
   "cell_type": "code",
   "execution_count": 34,
   "metadata": {
    "collapsed": true
   },
   "outputs": [],
   "source": [
    "o_reso.export(x_axis='energy', y_axis='sigma', items_to_export=[['Co', 'Co'], ['Ag', 'Ag'], ['Ag', 'Ag', '107-Ag'], ['Co', 'Co', '58-Co']])"
   ]
  },
  {
   "cell_type": "code",
   "execution_count": 35,
   "metadata": {
    "collapsed": true
   },
   "outputs": [],
   "source": [
    "o_reso.export(x_axis='energy', y_axis='sigma', all_isotopes=True)"
   ]
  }
 ],
 "metadata": {
  "kernelspec": {
   "display_name": "Python 3",
   "language": "python",
   "name": "python3"
  },
  "language_info": {
   "codemirror_mode": {
    "name": "ipython",
    "version": 3
   },
   "file_extension": ".py",
   "mimetype": "text/x-python",
   "name": "python",
   "nbconvert_exporter": "python",
   "pygments_lexer": "ipython3",
   "version": "3.6.1"
  },
  "toc": {
   "colors": {
    "hover_highlight": "#DAA520",
    "running_highlight": "#FF0000",
    "selected_highlight": "#FFD700"
   },
   "moveMenuLeft": true,
   "nav_menu": {
    "height": "156px",
    "width": "252px"
   },
   "navigate_menu": true,
   "number_sections": true,
   "sideBar": true,
   "threshold": 4.0,
   "toc_cell": false,
   "toc_section_display": "block",
   "toc_window_display": false
  }
 },
 "nbformat": 4,
 "nbformat_minor": 2
}
